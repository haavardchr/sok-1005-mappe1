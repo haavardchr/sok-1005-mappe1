{
 "cells": [
  {
   "cell_type": "markdown",
   "id": "541df995-907f-4954-a8e5-fb71192c20e3",
   "metadata": {},
   "source": [
    "Henter inn statistikk over basketballspiller i NBA fra 2021-2022 sesongen."
   ]
  },
  {
   "cell_type": "code",
   "execution_count": 3,
   "id": "794ed576-fb86-4032-bd53-85e431ee54f7",
   "metadata": {},
   "outputs": [
    {
     "data": {
      "text/plain": [
       "[                7:00 PM ET             7:00 PM ET.1             7:00 PM ET.2\n",
       " 0           Dallas (47-29)                       at        Cleveland (42-33)\n",
       " 1                      NaN                      NaN                      NaN\n",
       " 2  Preview  Regular Season  Preview  Regular Season  Preview  Regular Season,\n",
       " Empty DataFrame\n",
       " Columns: [Preview  Regular Season, Preview  Regular Season.1, Preview  Regular Season.2, Preview  Regular Season.3, Preview  Regular Season.4]\n",
       " Index: [],\n",
       "                 7:00 PM ET             7:00 PM ET.1             7:00 PM ET.2\n",
       " 0           Denver (45-31)                       at          Indiana (25-51)\n",
       " 1                      NaN                      NaN                      NaN\n",
       " 2  Preview  Regular Season  Preview  Regular Season  Preview  Regular Season,\n",
       " Empty DataFrame\n",
       " Columns: [Preview  Regular Season, Preview  Regular Season.1, Preview  Regular Season.2, Preview  Regular Season.3, Preview  Regular Season.4]\n",
       " Index: [],\n",
       "                 7:00 PM ET             7:00 PM ET.1             7:00 PM ET.2\n",
       " 0          Orlando (20-56)                       at       Washington (32-43)\n",
       " 1                      NaN                      NaN                      NaN\n",
       " 2  Preview  Regular Season  Preview  Regular Season  Preview  Regular Season,\n",
       " Empty DataFrame\n",
       " Columns: [Preview  Regular Season, Preview  Regular Season.1, Preview  Regular Season.2, Preview  Regular Season.3, Preview  Regular Season.4]\n",
       " Index: [],\n",
       "                 7:30 PM ET             7:30 PM ET.1             7:30 PM ET.2\n",
       " 0            Miami (48-28)                       at           Boston (47-29)\n",
       " 1                      NaN                      NaN                      NaN\n",
       " 2  Preview  Regular Season  Preview  Regular Season  Preview  Regular Season,\n",
       " Empty DataFrame\n",
       " Columns: [Preview  Regular Season, Preview  Regular Season.1, Preview  Regular Season.2, Preview  Regular Season.3, Preview  Regular Season.4]\n",
       " Index: [],\n",
       "                 7:30 PM ET             7:30 PM ET.1             7:30 PM ET.2\n",
       " 0        Charlotte (39-37)                       at         New York (34-42)\n",
       " 1                      NaN                      NaN                      NaN\n",
       " 2  Preview  Regular Season  Preview  Regular Season  Preview  Regular Season,\n",
       " Empty DataFrame\n",
       " Columns: [Preview  Regular Season, Preview  Regular Season.1, Preview  Regular Season.2, Preview  Regular Season.3, Preview  Regular Season.4]\n",
       " Index: [],\n",
       "                 7:30 PM ET             7:30 PM ET.1             7:30 PM ET.2\n",
       " 0        Minnesota (43-33)                       at          Toronto (43-32)\n",
       " 1                      NaN                      NaN                      NaN\n",
       " 2  Preview  Regular Season  Preview  Regular Season  Preview  Regular Season,\n",
       " Empty DataFrame\n",
       " Columns: [Preview  Regular Season, Preview  Regular Season.1, Preview  Regular Season.2, Preview  Regular Season.3, Preview  Regular Season.4]\n",
       " Index: [],\n",
       "       #                    Player Team  GP   MPG   PPG   FGM   FGA    FG%  \\\n",
       " 0     1              LeBron James  LAL  55  37.2  30.1  11.4  21.8  0.523   \n",
       " 1     2     Giannis Antetokounmpo  MIL  62  32.8  29.9  10.3  18.6  0.552   \n",
       " 2     3               Joel Embiid  PHI  62  33.5  29.9   9.5  19.4  0.489   \n",
       " 3     4              Kevin Durant  BRK  48  36.7  29.5  10.5  20.2  0.519   \n",
       " 4     5                Trae Young  ATL  69  35.0  28.0   9.3  20.2  0.458   \n",
       " ..  ...                       ...  ...  ..   ...   ...   ...   ...    ...   \n",
       " 95   96           Cameron Johnson  PHX  60  26.3  12.8   4.3   9.2  0.475   \n",
       " 96   97                Coby White  CHI  56  27.5  12.8   4.6  10.6  0.439   \n",
       " 97   98  Kentavious Caldwell-Pope  WAS  72  30.3  12.8   4.5  10.5  0.424   \n",
       " 98   99              Monte Morris  DEN  70  29.8  12.7   5.1  10.4  0.487   \n",
       " 99  100               Josh Giddey  OKC  54  31.5  12.5   5.2  12.4  0.419   \n",
       " \n",
       "     3PM  ...   FTA    FT%  ORB  DRB   RPG  APG  SPG  BPG  TOV   PF  \n",
       " 0   2.9  ...   5.9  0.756  1.1  7.1   8.2  6.3  1.3  1.1  3.5  2.1  \n",
       " 1   1.1  ...  11.5  0.722  2.0  9.7  11.6  5.8  1.0  1.5  3.2  3.2  \n",
       " 2   1.4  ...  11.7  0.816  2.1  9.3  11.4  4.3  1.2  1.4  3.0  2.7  \n",
       " 3   1.9  ...   7.2  0.905  0.5  6.7   7.2  6.1  0.9  0.9  3.4  2.0  \n",
       " 4   3.0  ...   7.1  0.902  0.7  3.1   3.8  9.6  1.0  0.1  4.0  1.7  \n",
       " ..  ...  ...   ...    ...  ...  ...   ...  ...  ...  ...  ...  ...  \n",
       " 95  2.6  ...   1.7  0.873  0.6  3.5   4.1  1.5  0.8  0.2  0.6  1.7  \n",
       " 96  2.2  ...   1.5  0.859  0.3  2.8   3.1  3.0  0.5  0.2  1.1  2.2  \n",
       " 97  2.0  ...   2.1  0.886  0.5  2.9   3.4  1.9  1.1  0.3  1.2  1.8  \n",
       " 98  1.7  ...   1.1  0.857  0.3  2.7   3.0  4.4  0.7  0.2  1.0  1.2  \n",
       " 99  1.0  ...   1.5  0.709  1.8  6.0   7.8  6.4  0.9  0.4  3.2  1.6  \n",
       " \n",
       " [100 rows x 23 columns]]"
      ]
     },
     "execution_count": 3,
     "metadata": {},
     "output_type": "execute_result"
    }
   ],
   "source": [
    "import pandas as pd\n",
    "import numpy as np\n",
    "url = 'https://basketball.realgm.com/nba/stats'\n",
    "df = pd.read_html(url, header = 0)\n",
    "df"
   ]
  },
  {
   "cell_type": "markdown",
   "id": "88189fd3-abe5-42a8-becd-de9d9b64d83a",
   "metadata": {},
   "source": [
    "Ser på antall tabeller det er på nettsiden"
   ]
  },
  {
   "cell_type": "code",
   "execution_count": 4,
   "id": "65b32877-44bc-44f0-9ecb-72db23e75e24",
   "metadata": {},
   "outputs": [
    {
     "data": {
      "text/plain": [
       "13"
      ]
     },
     "execution_count": 4,
     "metadata": {},
     "output_type": "execute_result"
    }
   ],
   "source": [
    "len(df)\n"
   ]
  },
  {
   "cell_type": "markdown",
   "id": "5f4e0395-de24-4dea-bd27-606724c45403",
   "metadata": {},
   "source": [
    "Velger den 10. tabellen, ettersom denne inneholder statistikken over de 100 beste spillerene så langt i sesongen."
   ]
  },
  {
   "cell_type": "code",
   "execution_count": 7,
   "id": "bb30d6aa-50d8-49d2-ad8c-9cc2339ceac6",
   "metadata": {},
   "outputs": [
    {
     "data": {
      "text/html": [
       "<div>\n",
       "<style scoped>\n",
       "    .dataframe tbody tr th:only-of-type {\n",
       "        vertical-align: middle;\n",
       "    }\n",
       "\n",
       "    .dataframe tbody tr th {\n",
       "        vertical-align: top;\n",
       "    }\n",
       "\n",
       "    .dataframe thead th {\n",
       "        text-align: right;\n",
       "    }\n",
       "</style>\n",
       "<table border=\"1\" class=\"dataframe\">\n",
       "  <thead>\n",
       "    <tr style=\"text-align: right;\">\n",
       "      <th></th>\n",
       "      <th>#</th>\n",
       "      <th>Player</th>\n",
       "      <th>Team</th>\n",
       "      <th>GP</th>\n",
       "      <th>MPG</th>\n",
       "      <th>PPG</th>\n",
       "      <th>FGM</th>\n",
       "      <th>FGA</th>\n",
       "      <th>FG%</th>\n",
       "      <th>3PM</th>\n",
       "      <th>...</th>\n",
       "      <th>FTA</th>\n",
       "      <th>FT%</th>\n",
       "      <th>ORB</th>\n",
       "      <th>DRB</th>\n",
       "      <th>RPG</th>\n",
       "      <th>APG</th>\n",
       "      <th>SPG</th>\n",
       "      <th>BPG</th>\n",
       "      <th>TOV</th>\n",
       "      <th>PF</th>\n",
       "    </tr>\n",
       "  </thead>\n",
       "  <tbody>\n",
       "    <tr>\n",
       "      <th>0</th>\n",
       "      <td>1</td>\n",
       "      <td>LeBron James</td>\n",
       "      <td>LAL</td>\n",
       "      <td>55</td>\n",
       "      <td>37.2</td>\n",
       "      <td>30.1</td>\n",
       "      <td>11.4</td>\n",
       "      <td>21.8</td>\n",
       "      <td>0.523</td>\n",
       "      <td>2.9</td>\n",
       "      <td>...</td>\n",
       "      <td>5.9</td>\n",
       "      <td>0.756</td>\n",
       "      <td>1.1</td>\n",
       "      <td>7.1</td>\n",
       "      <td>8.2</td>\n",
       "      <td>6.3</td>\n",
       "      <td>1.3</td>\n",
       "      <td>1.1</td>\n",
       "      <td>3.5</td>\n",
       "      <td>2.1</td>\n",
       "    </tr>\n",
       "    <tr>\n",
       "      <th>1</th>\n",
       "      <td>2</td>\n",
       "      <td>Giannis Antetokounmpo</td>\n",
       "      <td>MIL</td>\n",
       "      <td>62</td>\n",
       "      <td>32.8</td>\n",
       "      <td>29.9</td>\n",
       "      <td>10.3</td>\n",
       "      <td>18.6</td>\n",
       "      <td>0.552</td>\n",
       "      <td>1.1</td>\n",
       "      <td>...</td>\n",
       "      <td>11.5</td>\n",
       "      <td>0.722</td>\n",
       "      <td>2.0</td>\n",
       "      <td>9.7</td>\n",
       "      <td>11.6</td>\n",
       "      <td>5.8</td>\n",
       "      <td>1.0</td>\n",
       "      <td>1.5</td>\n",
       "      <td>3.2</td>\n",
       "      <td>3.2</td>\n",
       "    </tr>\n",
       "    <tr>\n",
       "      <th>2</th>\n",
       "      <td>3</td>\n",
       "      <td>Joel Embiid</td>\n",
       "      <td>PHI</td>\n",
       "      <td>62</td>\n",
       "      <td>33.5</td>\n",
       "      <td>29.9</td>\n",
       "      <td>9.5</td>\n",
       "      <td>19.4</td>\n",
       "      <td>0.489</td>\n",
       "      <td>1.4</td>\n",
       "      <td>...</td>\n",
       "      <td>11.7</td>\n",
       "      <td>0.816</td>\n",
       "      <td>2.1</td>\n",
       "      <td>9.3</td>\n",
       "      <td>11.4</td>\n",
       "      <td>4.3</td>\n",
       "      <td>1.2</td>\n",
       "      <td>1.4</td>\n",
       "      <td>3.0</td>\n",
       "      <td>2.7</td>\n",
       "    </tr>\n",
       "    <tr>\n",
       "      <th>3</th>\n",
       "      <td>4</td>\n",
       "      <td>Kevin Durant</td>\n",
       "      <td>BRK</td>\n",
       "      <td>48</td>\n",
       "      <td>36.7</td>\n",
       "      <td>29.5</td>\n",
       "      <td>10.5</td>\n",
       "      <td>20.2</td>\n",
       "      <td>0.519</td>\n",
       "      <td>1.9</td>\n",
       "      <td>...</td>\n",
       "      <td>7.2</td>\n",
       "      <td>0.905</td>\n",
       "      <td>0.5</td>\n",
       "      <td>6.7</td>\n",
       "      <td>7.2</td>\n",
       "      <td>6.1</td>\n",
       "      <td>0.9</td>\n",
       "      <td>0.9</td>\n",
       "      <td>3.4</td>\n",
       "      <td>2.0</td>\n",
       "    </tr>\n",
       "    <tr>\n",
       "      <th>4</th>\n",
       "      <td>5</td>\n",
       "      <td>Trae Young</td>\n",
       "      <td>ATL</td>\n",
       "      <td>69</td>\n",
       "      <td>35.0</td>\n",
       "      <td>28.0</td>\n",
       "      <td>9.3</td>\n",
       "      <td>20.2</td>\n",
       "      <td>0.458</td>\n",
       "      <td>3.0</td>\n",
       "      <td>...</td>\n",
       "      <td>7.1</td>\n",
       "      <td>0.902</td>\n",
       "      <td>0.7</td>\n",
       "      <td>3.1</td>\n",
       "      <td>3.8</td>\n",
       "      <td>9.6</td>\n",
       "      <td>1.0</td>\n",
       "      <td>0.1</td>\n",
       "      <td>4.0</td>\n",
       "      <td>1.7</td>\n",
       "    </tr>\n",
       "    <tr>\n",
       "      <th>...</th>\n",
       "      <td>...</td>\n",
       "      <td>...</td>\n",
       "      <td>...</td>\n",
       "      <td>...</td>\n",
       "      <td>...</td>\n",
       "      <td>...</td>\n",
       "      <td>...</td>\n",
       "      <td>...</td>\n",
       "      <td>...</td>\n",
       "      <td>...</td>\n",
       "      <td>...</td>\n",
       "      <td>...</td>\n",
       "      <td>...</td>\n",
       "      <td>...</td>\n",
       "      <td>...</td>\n",
       "      <td>...</td>\n",
       "      <td>...</td>\n",
       "      <td>...</td>\n",
       "      <td>...</td>\n",
       "      <td>...</td>\n",
       "      <td>...</td>\n",
       "    </tr>\n",
       "    <tr>\n",
       "      <th>95</th>\n",
       "      <td>96</td>\n",
       "      <td>Cameron Johnson</td>\n",
       "      <td>PHX</td>\n",
       "      <td>60</td>\n",
       "      <td>26.3</td>\n",
       "      <td>12.8</td>\n",
       "      <td>4.3</td>\n",
       "      <td>9.2</td>\n",
       "      <td>0.475</td>\n",
       "      <td>2.6</td>\n",
       "      <td>...</td>\n",
       "      <td>1.7</td>\n",
       "      <td>0.873</td>\n",
       "      <td>0.6</td>\n",
       "      <td>3.5</td>\n",
       "      <td>4.1</td>\n",
       "      <td>1.5</td>\n",
       "      <td>0.8</td>\n",
       "      <td>0.2</td>\n",
       "      <td>0.6</td>\n",
       "      <td>1.7</td>\n",
       "    </tr>\n",
       "    <tr>\n",
       "      <th>96</th>\n",
       "      <td>97</td>\n",
       "      <td>Coby White</td>\n",
       "      <td>CHI</td>\n",
       "      <td>56</td>\n",
       "      <td>27.5</td>\n",
       "      <td>12.8</td>\n",
       "      <td>4.6</td>\n",
       "      <td>10.6</td>\n",
       "      <td>0.439</td>\n",
       "      <td>2.2</td>\n",
       "      <td>...</td>\n",
       "      <td>1.5</td>\n",
       "      <td>0.859</td>\n",
       "      <td>0.3</td>\n",
       "      <td>2.8</td>\n",
       "      <td>3.1</td>\n",
       "      <td>3.0</td>\n",
       "      <td>0.5</td>\n",
       "      <td>0.2</td>\n",
       "      <td>1.1</td>\n",
       "      <td>2.2</td>\n",
       "    </tr>\n",
       "    <tr>\n",
       "      <th>97</th>\n",
       "      <td>98</td>\n",
       "      <td>Kentavious Caldwell-Pope</td>\n",
       "      <td>WAS</td>\n",
       "      <td>72</td>\n",
       "      <td>30.3</td>\n",
       "      <td>12.8</td>\n",
       "      <td>4.5</td>\n",
       "      <td>10.5</td>\n",
       "      <td>0.424</td>\n",
       "      <td>2.0</td>\n",
       "      <td>...</td>\n",
       "      <td>2.1</td>\n",
       "      <td>0.886</td>\n",
       "      <td>0.5</td>\n",
       "      <td>2.9</td>\n",
       "      <td>3.4</td>\n",
       "      <td>1.9</td>\n",
       "      <td>1.1</td>\n",
       "      <td>0.3</td>\n",
       "      <td>1.2</td>\n",
       "      <td>1.8</td>\n",
       "    </tr>\n",
       "    <tr>\n",
       "      <th>98</th>\n",
       "      <td>99</td>\n",
       "      <td>Monte Morris</td>\n",
       "      <td>DEN</td>\n",
       "      <td>70</td>\n",
       "      <td>29.8</td>\n",
       "      <td>12.7</td>\n",
       "      <td>5.1</td>\n",
       "      <td>10.4</td>\n",
       "      <td>0.487</td>\n",
       "      <td>1.7</td>\n",
       "      <td>...</td>\n",
       "      <td>1.1</td>\n",
       "      <td>0.857</td>\n",
       "      <td>0.3</td>\n",
       "      <td>2.7</td>\n",
       "      <td>3.0</td>\n",
       "      <td>4.4</td>\n",
       "      <td>0.7</td>\n",
       "      <td>0.2</td>\n",
       "      <td>1.0</td>\n",
       "      <td>1.2</td>\n",
       "    </tr>\n",
       "    <tr>\n",
       "      <th>99</th>\n",
       "      <td>100</td>\n",
       "      <td>Josh Giddey</td>\n",
       "      <td>OKC</td>\n",
       "      <td>54</td>\n",
       "      <td>31.5</td>\n",
       "      <td>12.5</td>\n",
       "      <td>5.2</td>\n",
       "      <td>12.4</td>\n",
       "      <td>0.419</td>\n",
       "      <td>1.0</td>\n",
       "      <td>...</td>\n",
       "      <td>1.5</td>\n",
       "      <td>0.709</td>\n",
       "      <td>1.8</td>\n",
       "      <td>6.0</td>\n",
       "      <td>7.8</td>\n",
       "      <td>6.4</td>\n",
       "      <td>0.9</td>\n",
       "      <td>0.4</td>\n",
       "      <td>3.2</td>\n",
       "      <td>1.6</td>\n",
       "    </tr>\n",
       "  </tbody>\n",
       "</table>\n",
       "<p>100 rows × 23 columns</p>\n",
       "</div>"
      ],
      "text/plain": [
       "      #                    Player Team  GP   MPG   PPG   FGM   FGA    FG%  \\\n",
       "0     1              LeBron James  LAL  55  37.2  30.1  11.4  21.8  0.523   \n",
       "1     2     Giannis Antetokounmpo  MIL  62  32.8  29.9  10.3  18.6  0.552   \n",
       "2     3               Joel Embiid  PHI  62  33.5  29.9   9.5  19.4  0.489   \n",
       "3     4              Kevin Durant  BRK  48  36.7  29.5  10.5  20.2  0.519   \n",
       "4     5                Trae Young  ATL  69  35.0  28.0   9.3  20.2  0.458   \n",
       "..  ...                       ...  ...  ..   ...   ...   ...   ...    ...   \n",
       "95   96           Cameron Johnson  PHX  60  26.3  12.8   4.3   9.2  0.475   \n",
       "96   97                Coby White  CHI  56  27.5  12.8   4.6  10.6  0.439   \n",
       "97   98  Kentavious Caldwell-Pope  WAS  72  30.3  12.8   4.5  10.5  0.424   \n",
       "98   99              Monte Morris  DEN  70  29.8  12.7   5.1  10.4  0.487   \n",
       "99  100               Josh Giddey  OKC  54  31.5  12.5   5.2  12.4  0.419   \n",
       "\n",
       "    3PM  ...   FTA    FT%  ORB  DRB   RPG  APG  SPG  BPG  TOV   PF  \n",
       "0   2.9  ...   5.9  0.756  1.1  7.1   8.2  6.3  1.3  1.1  3.5  2.1  \n",
       "1   1.1  ...  11.5  0.722  2.0  9.7  11.6  5.8  1.0  1.5  3.2  3.2  \n",
       "2   1.4  ...  11.7  0.816  2.1  9.3  11.4  4.3  1.2  1.4  3.0  2.7  \n",
       "3   1.9  ...   7.2  0.905  0.5  6.7   7.2  6.1  0.9  0.9  3.4  2.0  \n",
       "4   3.0  ...   7.1  0.902  0.7  3.1   3.8  9.6  1.0  0.1  4.0  1.7  \n",
       "..  ...  ...   ...    ...  ...  ...   ...  ...  ...  ...  ...  ...  \n",
       "95  2.6  ...   1.7  0.873  0.6  3.5   4.1  1.5  0.8  0.2  0.6  1.7  \n",
       "96  2.2  ...   1.5  0.859  0.3  2.8   3.1  3.0  0.5  0.2  1.1  2.2  \n",
       "97  2.0  ...   2.1  0.886  0.5  2.9   3.4  1.9  1.1  0.3  1.2  1.8  \n",
       "98  1.7  ...   1.1  0.857  0.3  2.7   3.0  4.4  0.7  0.2  1.0  1.2  \n",
       "99  1.0  ...   1.5  0.709  1.8  6.0   7.8  6.4  0.9  0.4  3.2  1.6  \n",
       "\n",
       "[100 rows x 23 columns]"
      ]
     },
     "execution_count": 7,
     "metadata": {},
     "output_type": "execute_result"
    }
   ],
   "source": [
    "df[12]"
   ]
  },
  {
   "cell_type": "markdown",
   "id": "35d91e59-38b4-40b4-b7ee-6e805826f0a0",
   "metadata": {},
   "source": [
    "Lagrer denne som en tabell og ser på strukturen av denne."
   ]
  },
  {
   "cell_type": "code",
   "execution_count": 8,
   "id": "13a150d1-82d5-4dda-b39f-a4a2fab77f8a",
   "metadata": {},
   "outputs": [],
   "source": [
    "df2021 = df[12]"
   ]
  },
  {
   "cell_type": "code",
   "execution_count": 9,
   "id": "be9a3abc-f37e-4fbd-875f-21f1b16b9814",
   "metadata": {},
   "outputs": [
    {
     "data": {
      "text/plain": [
       "(100, 23)"
      ]
     },
     "execution_count": 9,
     "metadata": {},
     "output_type": "execute_result"
    }
   ],
   "source": [
    "df2021.shape"
   ]
  },
  {
   "cell_type": "markdown",
   "id": "91256bd0-ad37-47bf-b84d-ec00718808e7",
   "metadata": {},
   "source": [
    "Plotter med poeng per kamp på x-aksen og poengforsøk per kamp på y-aksen."
   ]
  },
  {
   "cell_type": "code",
   "execution_count": 10,
   "id": "a1a29008-fbe5-48c4-9d1e-49f756ca585f",
   "metadata": {},
   "outputs": [
    {
     "data": {
      "text/plain": [
       "<matplotlib.legend.Legend at 0x7f6334a3f2e0>"
      ]
     },
     "execution_count": 10,
     "metadata": {},
     "output_type": "execute_result"
    },
    {
     "data": {
      "image/png": "[encoded data removed]",
      "text/plain": [
       "<Figure size 432x288 with 1 Axes>"
      ]
     },
     "metadata": {
      "needs_background": "light"
     },
     "output_type": "display_data"
    }
   ],
   "source": [
    "from matplotlib import pyplot as plt\n",
    "\n",
    "fig,ax=plt.subplots()\n",
    "\n",
    "ax.set_ylabel('Poeng per kamp')\n",
    "ax.set_xlabel('Poengforsøk per kamp')\n",
    "\n",
    "ax.scatter(df2021['PPG'], df2021['FGA'],  label='Spillere')\n",
    "ax.legend(loc='lower right',frameon=False)"
   ]
  },
  {
   "cell_type": "code",
   "execution_count": 11,
   "id": "8c0dfd44-21d0-4f98-a71d-548ae99aea34",
   "metadata": {},
   "outputs": [
    {
     "data": {
      "text/plain": [
       "<matplotlib.legend.Legend at 0x7f63349a9d60>"
      ]
     },
     "execution_count": 11,
     "metadata": {},
     "output_type": "execute_result"
    },
    {
     "data": {
      "image/png": "[encoded data removed]",
      "text/plain": [
       "<Figure size 432x288 with 1 Axes>"
      ]
     },
     "metadata": {
      "needs_background": "light"
     },
     "output_type": "display_data"
    }
   ],
   "source": [
    "fig,ax=plt.subplots()\n",
    "\n",
    "ax.set_ylabel('Poengforsøk per kamp')\n",
    "ax.set_xlabel('Poeng per kamp (logaritme)')\n",
    "\n",
    "\n",
    "ax.scatter(np.log(df2021['PPG']), df2021['FGA'],  label='Spillere')\n",
    "ax.legend(loc='lower right',frameon=False)"
   ]
  },
  {
   "cell_type": "markdown",
   "id": "764d5735-fff0-4fc4-8c2e-168caa0b4ba7",
   "metadata": {},
   "source": [
    "Grafen viser et tydelig sammenheng mellom poengforsøk og poeng per kamp. De spillerene som forsøker å skåre flere poeng ender ofte opp med å skåre mange poeng i snitt."
   ]
  },
  {
   "cell_type": "markdown",
   "id": "09359610-8445-40ab-8491-32065f5bbcc1",
   "metadata": {},
   "source": [
    "Lagrer verdiene for poengforsøk per kamp og poeng per kamp som to egne variabler, y og x"
   ]
  },
  {
   "cell_type": "code",
   "execution_count": null,
   "id": "2ad0176b-c01e-4d8e-a109-9f6dba516ef6",
   "metadata": {},
   "outputs": [
    {
     "data": {
      "text/html": [
       "<div>\n",
       "<style scoped>\n",
       "    .dataframe tbody tr th:only-of-type {\n",
       "        vertical-align: middle;\n",
       "    }\n",
       "\n",
       "    .dataframe tbody tr th {\n",
       "        vertical-align: top;\n",
       "    }\n",
       "\n",
       "    .dataframe thead th {\n",
       "        text-align: right;\n",
       "    }\n",
       "</style>\n",
       "<table border=\"1\" class=\"dataframe\">\n",
       "  <thead>\n",
       "    <tr style=\"text-align: right;\">\n",
       "      <th></th>\n",
       "      <th>FGA</th>\n",
       "    </tr>\n",
       "  </thead>\n",
       "  <tbody>\n",
       "    <tr>\n",
       "      <th>0</th>\n",
       "      <td>21.8</td>\n",
       "    </tr>\n",
       "    <tr>\n",
       "      <th>1</th>\n",
       "      <td>18.6</td>\n",
       "    </tr>\n",
       "    <tr>\n",
       "      <th>2</th>\n",
       "      <td>19.4</td>\n",
       "    </tr>\n",
       "    <tr>\n",
       "      <th>3</th>\n",
       "      <td>20.2</td>\n",
       "    </tr>\n",
       "    <tr>\n",
       "      <th>4</th>\n",
       "      <td>20.2</td>\n",
       "    </tr>\n",
       "    <tr>\n",
       "      <th>...</th>\n",
       "      <td>...</td>\n",
       "    </tr>\n",
       "    <tr>\n",
       "      <th>95</th>\n",
       "      <td>9.2</td>\n",
       "    </tr>\n",
       "    <tr>\n",
       "      <th>96</th>\n",
       "      <td>10.6</td>\n",
       "    </tr>\n",
       "    <tr>\n",
       "      <th>97</th>\n",
       "      <td>10.5</td>\n",
       "    </tr>\n",
       "    <tr>\n",
       "      <th>98</th>\n",
       "      <td>10.4</td>\n",
       "    </tr>\n",
       "    <tr>\n",
       "      <th>99</th>\n",
       "      <td>12.4</td>\n",
       "    </tr>\n",
       "  </tbody>\n",
       "</table>\n",
       "<p>100 rows × 1 columns</p>\n",
       "</div>"
      ],
      "text/plain": [
       "     FGA\n",
       "0   21.8\n",
       "1   18.6\n",
       "2   19.4\n",
       "3   20.2\n",
       "4   20.2\n",
       "..   ...\n",
       "95   9.2\n",
       "96  10.6\n",
       "97  10.5\n",
       "98  10.4\n",
       "99  12.4\n",
       "\n",
       "[100 rows x 1 columns]"
      ]
     },
     "execution_count": 12,
     "metadata": {},
     "output_type": "execute_result"
    }
   ],
   "source": [
    "y=df2021['FGA']\n",
    "pd.DataFrame(y)"
   ]
  },
  {
   "cell_type": "code",
   "execution_count": null,
   "id": "eaf1c7d5-a59a-49c8-820d-8cc5014eaa8b",
   "metadata": {},
   "outputs": [
    {
     "data": {
      "text/html": [
       "<div>\n",
       "<style scoped>\n",
       "    .dataframe tbody tr th:only-of-type {\n",
       "        vertical-align: middle;\n",
       "    }\n",
       "\n",
       "    .dataframe tbody tr th {\n",
       "        vertical-align: top;\n",
       "    }\n",
       "\n",
       "    .dataframe thead th {\n",
       "        text-align: right;\n",
       "    }\n",
       "</style>\n",
       "<table border=\"1\" class=\"dataframe\">\n",
       "  <thead>\n",
       "    <tr style=\"text-align: right;\">\n",
       "      <th></th>\n",
       "      <th>PPG</th>\n",
       "      <th>intercept</th>\n",
       "    </tr>\n",
       "  </thead>\n",
       "  <tbody>\n",
       "    <tr>\n",
       "      <th>0</th>\n",
       "      <td>3.404525</td>\n",
       "      <td>1</td>\n",
       "    </tr>\n",
       "    <tr>\n",
       "      <th>1</th>\n",
       "      <td>3.397858</td>\n",
       "      <td>1</td>\n",
       "    </tr>\n",
       "    <tr>\n",
       "      <th>2</th>\n",
       "      <td>3.397858</td>\n",
       "      <td>1</td>\n",
       "    </tr>\n",
       "    <tr>\n",
       "      <th>3</th>\n",
       "      <td>3.384390</td>\n",
       "      <td>1</td>\n",
       "    </tr>\n",
       "    <tr>\n",
       "      <th>4</th>\n",
       "      <td>3.332205</td>\n",
       "      <td>1</td>\n",
       "    </tr>\n",
       "    <tr>\n",
       "      <th>...</th>\n",
       "      <td>...</td>\n",
       "      <td>...</td>\n",
       "    </tr>\n",
       "    <tr>\n",
       "      <th>95</th>\n",
       "      <td>2.549445</td>\n",
       "      <td>1</td>\n",
       "    </tr>\n",
       "    <tr>\n",
       "      <th>96</th>\n",
       "      <td>2.549445</td>\n",
       "      <td>1</td>\n",
       "    </tr>\n",
       "    <tr>\n",
       "      <th>97</th>\n",
       "      <td>2.549445</td>\n",
       "      <td>1</td>\n",
       "    </tr>\n",
       "    <tr>\n",
       "      <th>98</th>\n",
       "      <td>2.541602</td>\n",
       "      <td>1</td>\n",
       "    </tr>\n",
       "    <tr>\n",
       "      <th>99</th>\n",
       "      <td>2.525729</td>\n",
       "      <td>1</td>\n",
       "    </tr>\n",
       "  </tbody>\n",
       "</table>\n",
       "<p>100 rows × 2 columns</p>\n",
       "</div>"
      ],
      "text/plain": [
       "         PPG  intercept\n",
       "0   3.404525          1\n",
       "1   3.397858          1\n",
       "2   3.397858          1\n",
       "3   3.384390          1\n",
       "4   3.332205          1\n",
       "..       ...        ...\n",
       "95  2.549445          1\n",
       "96  2.549445          1\n",
       "97  2.549445          1\n",
       "98  2.541602          1\n",
       "99  2.525729          1\n",
       "\n",
       "[100 rows x 2 columns]"
      ]
     },
     "execution_count": 13,
     "metadata": {},
     "output_type": "execute_result"
    }
   ],
   "source": [
    "x=pd.DataFrame(np.log(df2021['PPG']))\n",
    "x['intercept']=1\n",
    "x"
   ]
  },
  {
   "cell_type": "markdown",
   "id": "40029a17-b597-437b-aef7-10f8eebbca9b",
   "metadata": {},
   "source": [
    "Lager en lineær regresjonsmoddel og plotter denne med verdiene for poeng per kamp omgjort til logaritmiske verdier"
   ]
  },
  {
   "cell_type": "code",
   "execution_count": null,
   "id": "10d75177-ed9d-48a2-be32-b81842b4ded5",
   "metadata": {},
   "outputs": [
    {
     "name": "stderr",
     "output_type": "stream",
     "text": [
      "/usr/local/Miniconda3-py39_4.10.3-Linux-x86_64/lib/python3.9/site-packages/statsmodels/compat/pandas.py:65: FutureWarning: pandas.Int64Index is deprecated and will be removed from pandas in a future version. Use pandas.Index with the appropriate dtype instead.\n",
      "  from pandas import Int64Index as NumericIndex\n"
     ]
    },
    {
     "name": "stdout",
     "output_type": "stream",
     "text": [
      "                            OLS Regression Results                            \n",
      "==============================================================================\n",
      "Dep. Variable:                    FGA   R-squared:                       0.865\n",
      "Model:                            OLS   Adj. R-squared:                  0.864\n",
      "Method:                 Least Squares   F-statistic:                     630.0\n",
      "Date:                Wed, 30 Mar 2022   Prob (F-statistic):           1.83e-44\n",
      "Time:                        10:24:41   Log-Likelihood:                -163.62\n",
      "No. Observations:                 100   AIC:                             331.2\n",
      "Df Residuals:                      98   BIC:                             336.4\n",
      "Df Model:                           1                                         \n",
      "Covariance Type:            nonrobust                                         \n",
      "==============================================================================\n",
      "                 coef    std err          t      P>|t|      [0.025      0.975]\n",
      "------------------------------------------------------------------------------\n",
      "PPG           13.1245      0.523     25.100      0.000      12.087      14.162\n",
      "intercept    -23.5309      1.510    -15.586      0.000     -26.527     -20.535\n",
      "==============================================================================\n",
      "Omnibus:                       16.493   Durbin-Watson:                   1.738\n",
      "Prob(Omnibus):                  0.000   Jarque-Bera (JB):               20.610\n",
      "Skew:                          -0.855   Prob(JB):                     3.35e-05\n",
      "Kurtosis:                       4.423   Cond. No.                         38.9\n",
      "==============================================================================\n",
      "\n",
      "Notes:\n",
      "[1] Standard Errors assume that the covariance matrix of the errors is correctly specified.\n"
     ]
    }
   ],
   "source": [
    "from statsmodels.regression.linear_model import OLS\n",
    "\n",
    "res=OLS(y,x).fit()\n",
    "\n",
    "print(res.summary())"
   ]
  },
  {
   "cell_type": "code",
   "execution_count": null,
   "id": "6df2f905-dcda-42eb-a177-f4ec27259df3",
   "metadata": {},
   "outputs": [
    {
     "data": {
      "text/plain": [
       "PPG          13.124536\n",
       "intercept   -23.530878\n",
       "dtype: float64"
      ]
     },
     "execution_count": 15,
     "metadata": {},
     "output_type": "execute_result"
    }
   ],
   "source": [
    "res.params"
   ]
  },
  {
   "cell_type": "code",
   "execution_count": 16,
   "id": "3a334c45-e4dd-4a4d-8b11-99896fa6c0f0",
   "metadata": {},
   "outputs": [
    {
     "data": {
      "image/png": "[encoded data removed]",
      "text/plain": [
       "<Figure size 432x288 with 1 Axes>"
      ]
     },
     "execution_count": 16,
     "metadata": {},
     "output_type": "execute_result"
    }
   ],
   "source": [
    "x=np.linspace(min(np.log(df2021['PPG'])), max(np.log(df2021['PPG'])), 100)\n",
    "\n",
    "regression_line=res.params['intercept']+res.params['PPG']*x\n",
    "\n",
    "ax.plot(x, regression_line,color='red')\n",
    "fig"
   ]
  },
  {
   "cell_type": "markdown",
   "id": "dd611178-dfaf-48d8-89ef-c6ea21b89ccd",
   "metadata": {},
   "source": [
    "Når en lineær regresjonslinje tegnes ser vi at det er et klart sammenheng mellom de to statistiske variablene. Antall poeng per kamp er avhengig av poengforsøk per kamp. De spillerene som har flest poeng har også flest poengforsøk, med noen tilfeller der det ikke stemmer helt. Alle observasjonene er relativt nært regresjonslinja og linja har poisitivt stigningstall."
   ]
  }
 ],
 "metadata": {
  "kernelspec": {
   "display_name": "Python 3 (ipykernel)",
   "language": "python",
   "name": "python3"
  },
  "language_info": {
   "codemirror_mode": {
    "name": "ipython",
    "version": 3
   },
   "file_extension": ".py",
   "mimetype": "text/x-python",
   "name": "python",
   "nbconvert_exporter": "python",
   "pygments_lexer": "ipython3",
   "version": "3.9.9"
  }
 },
 "nbformat": 4,
 "nbformat_minor": 5
}
